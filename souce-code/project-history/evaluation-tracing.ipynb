{
 "cells": [
  {
   "cell_type": "code",
   "execution_count": 9,
   "id": "d19c3366",
   "metadata": {},
   "outputs": [],
   "source": [
    "import os\n",
    "import speech_recognition as sr\n",
    "from langchain.text_splitter import RecursiveCharacterTextSplitter\n",
    "from langchain_community.utilities import OpenWeatherMapAPIWrapper,WikipediaAPIWrapper, DuckDuckGoSearchAPIWrapper\n",
    "from langchain.agents import Tool\n",
    "from langchain_openai import OpenAIEmbeddings\n",
    "from langchain.vectorstores import FAISS\n",
    "from langchain_core.prompts import ChatPromptTemplate, PromptTemplate\n",
    "from langchain_openai import ChatOpenAI\n",
    "from langchain_core.chat_history import InMemoryChatMessageHistory\n",
    "from langchain.memory import ConversationBufferMemory\n",
    "import pyttsx3 \n",
    "from langchain_core.runnables.history import RunnableWithMessageHistory #Memory function\n",
    "from langsmith import utils"
   ]
  },
  {
   "cell_type": "code",
   "execution_count": 10,
   "id": "bfcd54e3",
   "metadata": {},
   "outputs": [],
   "source": [
    "from dotenv import load_dotenv, find_dotenv\n",
    "_ = load_dotenv(find_dotenv())\n",
    "recognizer = sr.Recognizer()"
   ]
  },
  {
   "cell_type": "code",
   "execution_count": 11,
   "id": "fdb4d024",
   "metadata": {},
   "outputs": [],
   "source": [
    "OPENAI_API_KEY  = os.getenv('OPENAI_API_KEY')\n",
    "LANGCHAIN_API_KEY = os.getenv(\"LANGCHAIN_API_KEY\")\n",
    "os.environ[\"LANGCHAIN_TRACING_V2\"] = \"true\"\n",
    "os.environ[\"LANGCHAIN_ENDPOINT\"]=\"https://api.smith.langchain.com\"\n",
    "os.environ[\"LANGCHAIN_PROJECT\"]=\"Travel Assistant\"\n",
    "\n"
   ]
  },
  {
   "cell_type": "code",
   "execution_count": 12,
   "id": "f5863d71",
   "metadata": {},
   "outputs": [
    {
     "data": {
      "text/plain": [
       "True"
      ]
     },
     "execution_count": 12,
     "metadata": {},
     "output_type": "execute_result"
    }
   ],
   "source": [
    "utils.tracing_is_enabled()"
   ]
  },
  {
   "cell_type": "code",
   "execution_count": 13,
   "id": "a5f78495",
   "metadata": {},
   "outputs": [],
   "source": [
    "weather_api = OpenWeatherMapAPIWrapper()  #https://home.openweathermap.org/api_keys\n",
    "\n",
    "wiki_api = WikipediaAPIWrapper()\n"
   ]
  },
  {
   "cell_type": "code",
   "execution_count": 14,
   "id": "cdd9fc85",
   "metadata": {},
   "outputs": [],
   "source": [
    "embed = OpenAIEmbeddings(model='text-embedding-ada-002') \n",
    "splitter = RecursiveCharacterTextSplitter(chunk_size=500, chunk_overlap=100)\n",
    "    "
   ]
  },
  {
   "cell_type": "code",
   "execution_count": 15,
   "id": "9c665e51",
   "metadata": {},
   "outputs": [],
   "source": [
    "def wiki_search(query):\n",
    "    data = wiki_api.load(query)\n",
    "    split_docs = splitter.split_documents(data)\n",
    "    vectorstore = FAISS.from_documents(split_docs, embed)\n",
    "\n",
    "    return vectorstore.as_retriever()"
   ]
  },
  {
   "cell_type": "code",
   "execution_count": 16,
   "id": "8d7af654",
   "metadata": {},
   "outputs": [],
   "source": [
    "def retriever_tool(query):\n",
    "    retriever = wiki_search(query)\n",
    "    results = retriever.get_relevant_documents(query)\n",
    "    return \"\\n\".join([doc.page_content for doc in results])\n"
   ]
  },
  {
   "cell_type": "code",
   "execution_count": 17,
   "id": "f8cd8d46",
   "metadata": {},
   "outputs": [
    {
     "name": "stderr",
     "output_type": "stream",
     "text": [
      "C:\\Users\\riina\\AppData\\Local\\Temp\\ipykernel_28508\\2785385720.py:2: LangChainDeprecationWarning: The class `OpenAI` was deprecated in LangChain 0.0.10 and will be removed in 1.0. An updated version of the class exists in the :class:`~langchain-openai package and should be used instead. To use it run `pip install -U :class:`~langchain-openai` and import as `from :class:`~langchain_openai import OpenAI``.\n",
      "  llm = OpenAI(temperature=0, model_name=\"gpt-3.5-turbo-instruct\")  # or \"gpt-4\"\n"
     ]
    }
   ],
   "source": [
    "from langchain.llms import OpenAI\n",
    "llm = OpenAI(temperature=0, model_name=\"gpt-3.5-turbo-instruct\")  # or \"gpt-4\"\n"
   ]
  },
  {
   "cell_type": "code",
   "execution_count": 18,
   "id": "1f99dc90",
   "metadata": {},
   "outputs": [],
   "source": [
    "from langchain.prompts import PromptTemplate\n",
    "\n",
    "# Define the custom prompt template for SmartTourGuideAgent\n",
    "tour_guide_prompt = PromptTemplate(\n",
    "    input_variables=[\"query\"],\n",
    "    template=\"\"\"\n",
    "    You are a SmartTourGuideAgent. Your task is to help users with their travel-related questions.\n",
    "    If the user asks about a city or country, provide them with relevant details about it.\n",
    "    If the user asks for a trip plan, create a basic itinerary for them.\n",
    "\n",
    "    Answer questions with relevant emojis to make the answers more engaging and fun. For example:\n",
    "    - For cities, mention landmarks, weather, or activities with emojis.\n",
    "    - For countries, mention famous attractions or cultural highlights with emojis.\n",
    "    - For trip plans, create a fun schedule with emojis representing the activities.\n",
    "\n",
    "    Query: {query}\n",
    "    Answer:\n",
    "    \"\"\"\n",
    ")"
   ]
  },
  {
   "cell_type": "code",
   "execution_count": 19,
   "id": "db5c9ce7",
   "metadata": {},
   "outputs": [],
   "source": [
    "tools = [\n",
    "    Tool(\n",
    "    name=\"TravelInfoRetriever\",\n",
    "    func=retriever_tool,\n",
    "    description=(\n",
    "    \"You are a SmartTourGuideAgent.\"\n",
    "    \"If the user asks about a city or country, provide them with details about it.\"\n",
    "    \"If the user asks for a trip plan, create a basic itinerary for them.\"\n",
    "    \"- For cities, mention landmarks, weather, or activities with emojis.\"\n",
    "    \"- For countries, mention famous attractions or cultural highlights with emojis.\"\n",
    "    \"- For trip plans, create a fun schedule with emojis representing the activities.\"\n",
    "    )\n",
    "    ),\n",
    "\n",
    "  Tool(\n",
    "        name='Weather',\n",
    "        func= weather_api.run,\n",
    "        description=(\n",
    "        \"Use this tool to find **current or forecasted weather information** about a country, city, or travel destination. \"\n",
    "        \"Ideal for questions like: 'What's the weather in Rome?', 'Is it rainy in Tokyo?', or 'How cold is it in Iceland in December?'. \"\n",
    "        \"Only use this tool when the user is asking specifically about **weather** conditions. \"\n",
    "        \"Do not use it for general travel info or sightseeing.\")\n",
    "  )\n",
    "]"
   ]
  },
  {
   "cell_type": "code",
   "execution_count": 20,
   "id": "5c927e61",
   "metadata": {},
   "outputs": [],
   "source": [
    "# 3. Audio Processing Functions\n",
    "def listen_to_user(timeout=10):\n",
    "    \"\"\"Convert speech to text with error handling\"\"\"\n",
    "    try:\n",
    "        with sr.Microphone() as source:\n",
    "            print(\"\\n🎤 Listening... (Speak now)\")\n",
    "            audio = recognizer.listen(source, timeout=timeout)\n",
    "        return recognizer.recognize_google(audio)\n",
    "    except sr.WaitTimeoutError:\n",
    "        print(\"⌛ No speech detected, please try again!\")\n",
    "        return \"\"\n",
    "    except Exception as e:\n",
    "        print(f\"🔇 : {str(e)}. Try speaking again.\")\n",
    "        return \"\"\n",
    "\n",
    "def text_to_speech(text):\n",
    "    \"\"\"Convert text to speech\"\"\"\n",
    "    engine = pyttsx3.init()\n",
    "    engine.setProperty('rate', 150)  # Speed of speech\n",
    "    engine.setProperty('volume', 1)  # Volume level (0.0 to 1.0)\n",
    "    engine.say(text)\n",
    "    engine.runAndWait()\n",
    "\n",
    "def get_input_method():\n",
    "    \"\"\"Get user's preferred input method\"\"\"\n",
    "    while True:\n",
    "        method = input(\"\\nChoose input method [text/audio]: \").lower()\n",
    "        if method in [\"text\", \"t\"]:\n",
    "            return input(\"✍️ Your travel question: \")\n",
    "        elif method in [\"audio\", \"a\"]:\n",
    "            return listen_to_user()\n",
    "        print(\"⚠️ Please enter 'text' or 'audio'\")\n"
   ]
  },
  {
   "cell_type": "code",
   "execution_count": 21,
   "id": "ed5fce8d",
   "metadata": {},
   "outputs": [
    {
     "name": "stderr",
     "output_type": "stream",
     "text": [
      "C:\\Users\\riina\\AppData\\Local\\Temp\\ipykernel_28508\\2498294467.py:6: LangChainDeprecationWarning: LangChain agents will continue to be supported, but it is recommended for new use cases to be built with LangGraph. LangGraph offers a more flexible and full-featured framework for building agents, including support for tool-calling, persistence of state, and human-in-the-loop workflows. For details, refer to the `LangGraph documentation <https://langchain-ai.github.io/langgraph/>`_ as well as guides for `Migrating from AgentExecutor <https://python.langchain.com/docs/how_to/migrate_agent/>`_ and LangGraph's `Pre-built ReAct agent <https://langchain-ai.github.io/langgraph/how-tos/create-react-agent/>`_.\n",
      "  conversational_agent = initialize_agent(\n"
     ]
    }
   ],
   "source": [
    "from langchain.agents import initialize_agent\n",
    "from langchain.memory import ConversationBufferMemory\n",
    "\n",
    "memory = ConversationBufferMemory(memory_key=\"chat_history\")\n",
    "\n",
    "conversational_agent = initialize_agent(\n",
    "    agent=\"conversational-react-description\",\n",
    "    tools=tools,\n",
    "    llm=llm,\n",
    "    verbose=True,\n",
    "    max_iterations=6,\n",
    "    agent_kwargs={\n",
    "        \"prompt\": tour_guide_prompt\n",
    "    },\n",
    "     memory=memory  # Pass the memory object here\n",
    ")"
   ]
  },
  {
   "cell_type": "code",
   "execution_count": 22,
   "id": "5f104613",
   "metadata": {},
   "outputs": [
    {
     "name": "stderr",
     "output_type": "stream",
     "text": [
      "C:\\Users\\riina\\AppData\\Local\\Temp\\ipykernel_28508\\168107454.py:1: LangChainDeprecationWarning: The method `Chain.run` was deprecated in langchain 0.1.0 and will be removed in 1.0. Use :meth:`~invoke` instead.\n",
      "  conversational_agent.run(get_input_method())\n"
     ]
    },
    {
     "name": "stdout",
     "output_type": "stream",
     "text": [
      "\n",
      "\n",
      "\u001b[1m> Entering new AgentExecutor chain...\u001b[0m\n",
      "\u001b[32;1m\u001b[1;3mThought: Do I need to use a tool? Yes\n",
      "Action: TravelInfoRetriever\n",
      "Action Input: make a plan\u001b[0m"
     ]
    },
    {
     "name": "stderr",
     "output_type": "stream",
     "text": [
      "C:\\Users\\riina\\AppData\\Local\\Temp\\ipykernel_28508\\741416126.py:3: LangChainDeprecationWarning: The method `BaseRetriever.get_relevant_documents` was deprecated in langchain-core 0.1.46 and will be removed in 1.0. Use :meth:`~invoke` instead.\n",
      "  results = retriever.get_relevant_documents(query)\n"
     ]
    },
    {
     "name": "stdout",
     "output_type": "stream",
     "text": [
      "\n",
      "Observation: \u001b[36;1m\u001b[1;3mA plan is typically any diagram or list of steps with details of timing and resources, used to achieve an objective to do something. It is commonly understood as a temporal set of intended actions through which one expects to achieve a goal.\n",
      "For spatial or planar topologic or topographic sets see map.\n",
      "Plans can be formal or informal:\n",
      "Structured and formal plans, used by multiple people, are more likely to occur in projects, diplomacy, careers, economic development, military campaigns, combat, sports, games, or in the conduct of other business. In most cases, the absence of a well-laid plan can have adverse effects: for example, a non-robust project plan can cost the organization time and money.\n",
      "Informal or ad hoc plans are created by individuals in all of their pursuits.\n",
      "It is common for less formal plans to be created as abstract ideas, and remain in that form as they are maintained and put to use. More formal plans as used for business and military purposes, while initially created with and as an abstract thought, are likely to be written down, drawn up or otherwise stored in a form that is accessible to multiple people across time and space. This allows more reliable collaboration in the execution of the plan.\n",
      "=== Planning ===\n",
      "The term planning implies the working out of sub-components in some degree of elaborate detail. Broader-brush enunciations of objectives may qualify as metaphorical roadmaps. Planning literally just means the creation of a plan; it can be as simple as making a list. It has not acquired a technical meaning, however, to cover the area of government  legislation and regulations elated to the use of resources.\u001b[0m\n",
      "Thought:\u001b[32;1m\u001b[1;3m Do I need to use a tool? No\n",
      "AI: Sure, I can help you make a plan. What do you need a plan for?\u001b[0m\n",
      "\n",
      "\u001b[1m> Finished chain.\u001b[0m\n"
     ]
    },
    {
     "data": {
      "text/plain": [
       "'Sure, I can help you make a plan. What do you need a plan for?'"
      ]
     },
     "execution_count": 22,
     "metadata": {},
     "output_type": "execute_result"
    }
   ],
   "source": [
    "conversational_agent.run(get_input_method())"
   ]
  }
 ],
 "metadata": {
  "kernelspec": {
   "display_name": "base",
   "language": "python",
   "name": "python3"
  },
  "language_info": {
   "codemirror_mode": {
    "name": "ipython",
    "version": 3
   },
   "file_extension": ".py",
   "mimetype": "text/x-python",
   "name": "python",
   "nbconvert_exporter": "python",
   "pygments_lexer": "ipython3",
   "version": "3.12.9"
  }
 },
 "nbformat": 4,
 "nbformat_minor": 5
}
