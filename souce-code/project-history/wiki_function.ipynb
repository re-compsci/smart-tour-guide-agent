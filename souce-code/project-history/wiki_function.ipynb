{
 "cells": [
  {
   "cell_type": "code",
   "execution_count": 2,
   "id": "d19c3366",
   "metadata": {},
   "outputs": [],
   "source": [
    "from langchain.text_splitter import RecursiveCharacterTextSplitter\n",
    "from langchain_community.utilities import OpenWeatherMapAPIWrapper,WikipediaAPIWrapper\n",
    "from langchain.agents import Tool\n",
    "from langchain_openai import OpenAIEmbeddings\n",
    "from langchain.vectorstores import FAISS\n",
    "from langchain_core.documents import Document"
   ]
  },
  {
   "cell_type": "code",
   "execution_count": 3,
   "id": "bfcd54e3",
   "metadata": {},
   "outputs": [],
   "source": [
    "from dotenv import load_dotenv\n",
    "_ = load_dotenv()\n"
   ]
  },
  {
   "cell_type": "code",
   "execution_count": 4,
   "id": "a5f78495",
   "metadata": {},
   "outputs": [],
   "source": [
    "weather_api = OpenWeatherMapAPIWrapper()  #https://home.openweathermap.org/api_keys\n",
    "\n",
    "wiki_api = WikipediaAPIWrapper()\n"
   ]
  },
  {
   "cell_type": "code",
   "execution_count": null,
   "id": "cdd9fc85",
   "metadata": {},
   "outputs": [],
   "source": [
    "embed = OpenAIEmbeddings(model='text-embedding-ada-002') \n",
    "\n",
    "splitter = RecursiveCharacterTextSplitter(chunk_size=500, chunk_overlap=100)\n",
    "    "
   ]
  },
  {
   "cell_type": "code",
   "execution_count": 16,
   "id": "9c665e51",
   "metadata": {},
   "outputs": [],
   "source": [
    "def wiki_search(query):\n",
    "    data = wiki_api.load(query)\n",
    "    split_docs = splitter.split_documents(data)\n",
    "    vectorstore = FAISS.from_documents(split_docs, embed)\n",
    "    vectorstore.save_local(\"faiss.index\")\n",
    "    return vectorstore.as_retriever()"
   ]
  },
  {
   "cell_type": "code",
   "execution_count": 8,
   "id": "8d7af654",
   "metadata": {},
   "outputs": [],
   "source": [
    "def retriever_tool(query):\n",
    "    retriever = wiki_search(query)\n",
    "    results = retriever.get_relevant_documents(query)\n",
    "    return \"\\n\".join([doc.page_content for doc in results])\n"
   ]
  },
  {
   "cell_type": "code",
   "execution_count": 9,
   "id": "f8cd8d46",
   "metadata": {},
   "outputs": [
    {
     "name": "stderr",
     "output_type": "stream",
     "text": [
      "C:\\Users\\riina\\AppData\\Local\\Temp\\ipykernel_9964\\89507056.py:4: LangChainDeprecationWarning: The class `OpenAI` was deprecated in LangChain 0.0.10 and will be removed in 1.0. An updated version of the class exists in the :class:`~langchain-openai package and should be used instead. To use it run `pip install -U :class:`~langchain-openai` and import as `from :class:`~langchain_openai import OpenAI``.\n",
      "  llm = OpenAI(temperature=0, model_name=\"gpt-3.5-turbo-instruct\")  # or \"gpt-4\"\n"
     ]
    }
   ],
   "source": [
    "from langchain.llms import OpenAI\n",
    "# from google.colab import userdata\n",
    "# api_key = userdata.get('OPENAI_API')\n",
    "llm = OpenAI(temperature=0, model_name=\"gpt-3.5-turbo-instruct\")  # or \"gpt-4\"\n"
   ]
  },
  {
   "cell_type": "code",
   "execution_count": 10,
   "id": "db5c9ce7",
   "metadata": {},
   "outputs": [],
   "source": [
    "tools = [\n",
    "    Tool(\n",
    "    name=\"TravelInfoRetriever\",\n",
    "    func=retriever_tool,\n",
    "    description=(\n",
    "        \"Use this tool to retrieve travel-related information about countries, cities, or landmarks. \"\n",
    "        \"Ideal when the user asks something like: 'What is interesting in Paris?', or 'What is Tokyo known for?'.\"\n",
    "    )\n",
    "    ),\n",
    "\n",
    "  Tool(\n",
    "        name='Weather',\n",
    "        func= weather_api.run,\n",
    "        description=(\n",
    "        \"Use this tool to find **current or forecasted weather information** about a country, city, or travel destination. \"\n",
    "        \"Ideal for questions like: 'What's the weather in Rome?', 'Is it rainy in Tokyo?', or 'How cold is it in Iceland in December?'. \"\n",
    "        \"Only use this tool when the user is asking specifically about **weather** conditions. \"\n",
    "        \"Do not use it for general travel info or sightseeing.\")\n",
    "  )\n",
    "]"
   ]
  },
  {
   "cell_type": "code",
   "execution_count": 11,
   "id": "ed5fce8d",
   "metadata": {},
   "outputs": [
    {
     "name": "stderr",
     "output_type": "stream",
     "text": [
      "C:\\Users\\riina\\AppData\\Local\\Temp\\ipykernel_9964\\1867655619.py:3: LangChainDeprecationWarning: LangChain agents will continue to be supported, but it is recommended for new use cases to be built with LangGraph. LangGraph offers a more flexible and full-featured framework for building agents, including support for tool-calling, persistence of state, and human-in-the-loop workflows. For details, refer to the `LangGraph documentation <https://langchain-ai.github.io/langgraph/>`_ as well as guides for `Migrating from AgentExecutor <https://python.langchain.com/docs/how_to/migrate_agent/>`_ and LangGraph's `Pre-built ReAct agent <https://langchain-ai.github.io/langgraph/how-tos/create-react-agent/>`_.\n",
      "  zero_shot_agent = initialize_agent(\n"
     ]
    }
   ],
   "source": [
    "from langchain.agents import initialize_agent\n",
    "\n",
    "zero_shot_agent = initialize_agent(\n",
    "    agent=\"zero-shot-react-description\",\n",
    "    tools=tools,\n",
    "    llm=llm,\n",
    "    verbose=True,\n",
    "    max_iterations=3,\n",
    ")"
   ]
  },
  {
   "cell_type": "code",
   "execution_count": 15,
   "id": "e30a73d5",
   "metadata": {},
   "outputs": [
    {
     "name": "stdout",
     "output_type": "stream",
     "text": [
      "\n",
      "\n",
      "\u001b[1m> Entering new AgentExecutor chain...\u001b[0m\n",
      "\u001b[32;1m\u001b[1;3m I should use the Weather tool to find the current weather in Paris\n",
      "Action: Weather\n",
      "Action Input: \"Paris\"\u001b[0m\n",
      "Observation: \u001b[33;1m\u001b[1;3mIn Paris, the current weather is as follows:\n",
      "Detailed status: clear sky\n",
      "Wind speed: 1.79 m/s, direction: 73°\n",
      "Humidity: 63%\n",
      "Temperature: \n",
      "  - Current: 15.92°C\n",
      "  - High: 15.92°C\n",
      "  - Low: 15.92°C\n",
      "  - Feels like: 15.21°C\n",
      "Rain: {}\n",
      "Heat index: None\n",
      "Cloud cover: 0%\u001b[0m\n",
      "Thought:\u001b[32;1m\u001b[1;3m I now know the final answer\n",
      "Final Answer: The current weather in Paris is clear with a temperature of 15.92°C.\u001b[0m\n",
      "\n",
      "\u001b[1m> Finished chain.\u001b[0m\n"
     ]
    },
    {
     "data": {
      "text/plain": [
       "'The current weather in Paris is clear with a temperature of 15.92°C.'"
      ]
     },
     "execution_count": 15,
     "metadata": {},
     "output_type": "execute_result"
    }
   ],
   "source": [
    "zero_shot_agent.run(\"how is the weather in paris today?\")"
   ]
  }
 ],
 "metadata": {
  "kernelspec": {
   "display_name": "base",
   "language": "python",
   "name": "python3"
  },
  "language_info": {
   "codemirror_mode": {
    "name": "ipython",
    "version": 3
   },
   "file_extension": ".py",
   "mimetype": "text/x-python",
   "name": "python",
   "nbconvert_exporter": "python",
   "pygments_lexer": "ipython3",
   "version": "3.12.9"
  }
 },
 "nbformat": 4,
 "nbformat_minor": 5
}
