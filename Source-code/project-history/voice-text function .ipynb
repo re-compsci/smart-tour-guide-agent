{
 "cells": [
  {
   "cell_type": "code",
   "execution_count": 23,
   "id": "d19c3366",
   "metadata": {},
   "outputs": [],
   "source": [
    "\n",
    "import speech_recognition as sr\n",
    "from langchain.text_splitter import RecursiveCharacterTextSplitter\n",
    "from langchain_community.utilities import OpenWeatherMapAPIWrapper,WikipediaAPIWrapper\n",
    "from langchain.agents import Tool\n",
    "from langchain_openai import OpenAIEmbeddings\n",
    "from langchain.vectorstores import FAISS\n",
    "from langchain.prompts import PromptTemplate\n",
    "from langchain_openai import ChatOpenAI\n",
    "from langchain_core.chat_history import InMemoryChatMessageHistory\n",
    "from langchain_core.runnables.history import RunnableWithMessageHistory\n",
    "from langchain.agents import create_react_agent, AgentExecutor\n"
   ]
  },
  {
   "cell_type": "code",
   "execution_count": 3,
   "id": "bfcd54e3",
   "metadata": {},
   "outputs": [],
   "source": [
    "from dotenv import load_dotenv\n",
    "_ = load_dotenv()\n",
    "recognizer = sr.Recognizer()"
   ]
  },
  {
   "cell_type": "code",
   "execution_count": 4,
   "id": "a5f78495",
   "metadata": {},
   "outputs": [],
   "source": [
    "weather_api = OpenWeatherMapAPIWrapper()  #https://home.openweathermap.org/api_keys\n",
    "\n",
    "wiki_api = WikipediaAPIWrapper()\n"
   ]
  },
  {
   "cell_type": "code",
   "execution_count": 5,
   "id": "cdd9fc85",
   "metadata": {},
   "outputs": [],
   "source": [
    "embed = OpenAIEmbeddings(model='text-embedding-ada-002') \n",
    "\n",
    "splitter = RecursiveCharacterTextSplitter(chunk_size=500, chunk_overlap=100)\n",
    "    "
   ]
  },
  {
   "cell_type": "code",
   "execution_count": 6,
   "id": "9c665e51",
   "metadata": {},
   "outputs": [],
   "source": [
    "def wiki_search(query):\n",
    "    data = wiki_api.load(query)\n",
    "    split_docs = splitter.split_documents(data)\n",
    "    vectorstore = FAISS.from_documents(split_docs, embed)\n",
    "\n",
    "    return vectorstore.as_retriever()"
   ]
  },
  {
   "cell_type": "code",
   "execution_count": 7,
   "id": "8d7af654",
   "metadata": {},
   "outputs": [],
   "source": [
    "def retriever_tool(query):\n",
    "    retriever = wiki_search(query)\n",
    "    results = retriever.get_relevant_documents(query)\n",
    "    return \"\\n\".join([doc.page_content for doc in results])\n"
   ]
  },
  {
   "cell_type": "code",
   "execution_count": 8,
   "id": "f8cd8d46",
   "metadata": {},
   "outputs": [
    {
     "name": "stderr",
     "output_type": "stream",
     "text": [
      "C:\\Users\\riina\\AppData\\Local\\Temp\\ipykernel_21676\\89507056.py:4: LangChainDeprecationWarning: The class `OpenAI` was deprecated in LangChain 0.0.10 and will be removed in 1.0. An updated version of the class exists in the :class:`~langchain-openai package and should be used instead. To use it run `pip install -U :class:`~langchain-openai` and import as `from :class:`~langchain_openai import OpenAI``.\n",
      "  llm = OpenAI(temperature=0, model_name=\"gpt-3.5-turbo-instruct\")  # or \"gpt-4\"\n"
     ]
    }
   ],
   "source": [
    "from langchain.llms import OpenAI\n",
    "# from google.colab import userdata\n",
    "# api_key = userdata.get('OPENAI_API')\n",
    "llm = OpenAI(temperature=0, model_name=\"gpt-3.5-turbo-instruct\")  # or \"gpt-4\"\n"
   ]
  },
  {
   "cell_type": "code",
   "execution_count": 9,
   "id": "db5c9ce7",
   "metadata": {},
   "outputs": [],
   "source": [
    "tools = [\n",
    "    Tool(\n",
    "    name=\"TravelInfoRetriever\",\n",
    "    func=retriever_tool,\n",
    "    description=(\n",
    "        \"Use this tool to retrieve travel-related information about countries, cities, or landmarks. \"\n",
    "        \"Ideal when the user asks something like: 'What is interesting in Paris?', or 'What is Tokyo known for?'.\"\n",
    "    )\n",
    "    ),\n",
    "\n",
    "  Tool(\n",
    "        name='Weather',\n",
    "        func= weather_api.run,\n",
    "        description=(\n",
    "        \"Use this tool to find **current or forecasted weather information** about a country, city, or travel destination. \"\n",
    "        \"Ideal for questions like: 'What's the weather in Rome?', 'Is it rainy in Tokyo?', or 'How cold is it in Iceland in December?'. \"\n",
    "        \"Only use this tool when the user is asking specifically about **weather** conditions. \"\n",
    "        \"Do not use it for general travel info or sightseeing.\")\n",
    "  )\n",
    "]"
   ]
  },
  {
   "cell_type": "code",
   "execution_count": 10,
   "id": "d271231d",
   "metadata": {},
   "outputs": [],
   "source": [
    "def voice_to_text():\n",
    "    try:\n",
    "        with sr.Microphone() as source:\n",
    "            print(\"\\nListening... (Speak now)\")\n",
    "            audio = recognizer.listen(source, timeout=10)\n",
    "        return recognizer.recognize_google(audio)\n",
    "    except sr.WaitTimeoutError:\n",
    "        print(\"Listening timed out\")\n",
    "        return \"\"\n",
    "    except Exception as e:\n",
    "        print(f\"Audio error: {str(e)}\")\n",
    "        return \"\"\n",
    "\n",
    "def get_user_input():\n",
    "    input_type = input(\"\\nChoose input method [text/audio]: \").lower()\n",
    "    return voice_to_text() if input_type == \"audio\" else input(\"Your question: \")\n"
   ]
  },
  {
   "cell_type": "code",
   "execution_count": 17,
   "id": "ed5fce8d",
   "metadata": {},
   "outputs": [],
   "source": [
    "from langchain.agents import initialize_agent\n",
    "\n",
    "zero_shot_agent = initialize_agent(\n",
    "    agent=\"zero-shot-react-description\",\n",
    "    tools=tools,\n",
    "    llm=llm,\n",
    "    verbose=True,\n",
    "    max_iterations=3,\n",
    ")"
   ]
  },
  {
   "cell_type": "code",
   "execution_count": 13,
   "id": "e30a73d5",
   "metadata": {},
   "outputs": [
    {
     "name": "stdout",
     "output_type": "stream",
     "text": [
      "\n",
      "Listening... (Speak now)\n"
     ]
    },
    {
     "name": "stderr",
     "output_type": "stream",
     "text": [
      "C:\\Users\\riina\\AppData\\Local\\Temp\\ipykernel_30936\\2041125750.py:1: LangChainDeprecationWarning: The method `Chain.run` was deprecated in langchain 0.1.0 and will be removed in 1.0. Use :meth:`~invoke` instead.\n",
      "  zero_shot_agent.run(get_user_input())\n"
     ]
    },
    {
     "name": "stdout",
     "output_type": "stream",
     "text": [
      "\n",
      "\n",
      "\u001b[1m> Entering new AgentExecutor chain...\u001b[0m\n",
      "\u001b[32;1m\u001b[1;3m I should use the TravelInfoRetriever tool to find out what London is.\n",
      "Action: TravelInfoRetriever\n",
      "Action Input: London\u001b[0m"
     ]
    },
    {
     "name": "stderr",
     "output_type": "stream",
     "text": [
      "C:\\Users\\riina\\AppData\\Local\\Temp\\ipykernel_30936\\741416126.py:3: LangChainDeprecationWarning: The method `BaseRetriever.get_relevant_documents` was deprecated in langchain-core 0.1.46 and will be removed in 1.0. Use :meth:`~invoke` instead.\n",
      "  results = retriever.get_relevant_documents(query)\n"
     ]
    },
    {
     "name": "stdout",
     "output_type": "stream",
     "text": [
      "\n",
      "Observation: \u001b[36;1m\u001b[1;3mPaul's Cathedral, Tower Bridge, and Trafalgar Square. The city has the most museums, art galleries, libraries, and cultural venues in the UK, including the British Museum, National Gallery, Natural History Museum, Tate Modern, British Library, and numerous West End theatres. Important sporting events held in London include the FA Cup Final, the Wimbledon Tennis Championships, and the London Marathon. It became the first city to host three Summer Olympic Games upon hosting the 2012 Summer\n",
      "As one of the world's major global cities, London exerts a strong influence on world art, entertainment, fashion, commerce, finance, education, healthcare, media, science, technology, tourism, transport, and communications. London is Europe’s most economically powerful city, and is one of the world's major financial centres. London hosts Europe's largest concentration of higher education institutions, comprising over 50 universities and colleges and enrolling more than 500,000 students as of\n",
      "London is the capital and largest city of both England and the United Kingdom, with a population of 8,866,180 in 2022. Its wider metropolitan area is the largest in Western Europe, with a population of 14.9 million. London stands on the River Thames in southeast England, at the head of a 50-mile (80 km) tidal estuary down to the North Sea, and has been a major settlement for nearly 2,000 years. Its ancient core and financial centre, the City of London, was founded by the Romans as Londinium and\n",
      "Four World Heritage Sites are located in London: Kew Gardens; the Tower of London; the site featuring the Palace of Westminster, Church of St. Margaret, and Westminster Abbey; and the historic settlement in Greenwich where the Royal Observatory defines the prime meridian (0° longitude) and Greenwich Mean Time. Other landmarks include Buckingham Palace, the London Eye, Piccadilly Circus, St Paul's Cathedral, Tower Bridge, and Trafalgar Square. The city has the most museums, art galleries,\u001b[0m\n",
      "Thought:\u001b[32;1m\u001b[1;3m I should now use the Weather tool to find out the current weather in London.\n",
      "Action: Weather\n",
      "Action Input: London\u001b[0m\n",
      "Observation: \u001b[33;1m\u001b[1;3mIn London, the current weather is as follows:\n",
      "Detailed status: scattered clouds\n",
      "Wind speed: 2.06 m/s, direction: 73°\n",
      "Humidity: 74%\n",
      "Temperature: \n",
      "  - Current: 10.59°C\n",
      "  - High: 10.59°C\n",
      "  - Low: 10.59°C\n",
      "  - Feels like: 9.64°C\n",
      "Rain: {}\n",
      "Heat index: None\n",
      "Cloud cover: 36%\u001b[0m\n",
      "Thought:\u001b[32;1m\u001b[1;3m I now know the final answer.\n",
      "Final Answer: London is a major global city with a rich history, diverse culture, and strong influence on various industries. It is known for its iconic landmarks, museums, and universities. The current weather in London is scattered clouds with a temperature of 10.59°C.\u001b[0m\n",
      "\n",
      "\u001b[1m> Finished chain.\u001b[0m\n"
     ]
    },
    {
     "data": {
      "text/plain": [
       "'London is a major global city with a rich history, diverse culture, and strong influence on various industries. It is known for its iconic landmarks, museums, and universities. The current weather in London is scattered clouds with a temperature of 10.59°C.'"
      ]
     },
     "execution_count": 13,
     "metadata": {},
     "output_type": "execute_result"
    }
   ],
   "source": [
    "zero_shot_agent.run(get_user_input())"
   ]
  }
 ],
 "metadata": {
  "kernelspec": {
   "display_name": "base",
   "language": "python",
   "name": "python3"
  },
  "language_info": {
   "codemirror_mode": {
    "name": "ipython",
    "version": 3
   },
   "file_extension": ".py",
   "mimetype": "text/x-python",
   "name": "python",
   "nbconvert_exporter": "python",
   "pygments_lexer": "ipython3",
   "version": "3.12.9"
  }
 },
 "nbformat": 4,
 "nbformat_minor": 5
}
