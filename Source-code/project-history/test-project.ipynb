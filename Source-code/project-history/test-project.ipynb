{
 "cells": [
  {
   "cell_type": "code",
   "execution_count": 2,
   "id": "5c0e5281",
   "metadata": {},
   "outputs": [
    {
     "name": "stdout",
     "output_type": "stream",
     "text": [
      "Collecting wikipediaNote: you may need to restart the kernel to use updated packages.\n",
      "\n",
      "  Downloading wikipedia-1.4.0.tar.gz (27 kB)\n",
      "  Preparing metadata (setup.py): started\n",
      "  Preparing metadata (setup.py): finished with status 'done'\n",
      "Requirement already satisfied: beautifulsoup4 in c:\\users\\riina\\anaconda3\\lib\\site-packages (from wikipedia) (4.12.3)\n",
      "Requirement already satisfied: requests<3.0.0,>=2.0.0 in c:\\users\\riina\\anaconda3\\lib\\site-packages (from wikipedia) (2.32.3)\n",
      "Requirement already satisfied: charset-normalizer<4,>=2 in c:\\users\\riina\\anaconda3\\lib\\site-packages (from requests<3.0.0,>=2.0.0->wikipedia) (3.4.1)\n",
      "Requirement already satisfied: idna<4,>=2.5 in c:\\users\\riina\\anaconda3\\lib\\site-packages (from requests<3.0.0,>=2.0.0->wikipedia) (3.10)\n",
      "Requirement already satisfied: urllib3<3,>=1.21.1 in c:\\users\\riina\\anaconda3\\lib\\site-packages (from requests<3.0.0,>=2.0.0->wikipedia) (2.4.0)\n",
      "Requirement already satisfied: certifi>=2017.4.17 in c:\\users\\riina\\anaconda3\\lib\\site-packages (from requests<3.0.0,>=2.0.0->wikipedia) (2025.4.26)\n",
      "Requirement already satisfied: soupsieve>1.2 in c:\\users\\riina\\anaconda3\\lib\\site-packages (from beautifulsoup4->wikipedia) (2.5)\n",
      "Building wheels for collected packages: wikipedia\n",
      "  Building wheel for wikipedia (setup.py): started\n",
      "  Building wheel for wikipedia (setup.py): finished with status 'done'\n",
      "  Created wheel for wikipedia: filename=wikipedia-1.4.0-py3-none-any.whl size=11786 sha256=171125a788635c474b392466f15b650925cd89ef2ab4f31bebd1fe2c0d10a560\n",
      "  Stored in directory: c:\\users\\riina\\appdata\\local\\pip\\cache\\wheels\\63\\47\\7c\\a9688349aa74d228ce0a9023229c6c0ac52ca2a40fe87679b8\n",
      "Successfully built wikipedia\n",
      "Installing collected packages: wikipedia\n",
      "Successfully installed wikipedia-1.4.0\n"
     ]
    }
   ],
   "source": [
    "pip install wikipedia"
   ]
  },
  {
   "cell_type": "code",
   "execution_count": 3,
   "id": "7ec54e7b-6bf8-4be0-ba68-3e53292dbe39",
   "metadata": {},
   "outputs": [],
   "source": [
    "# Importing necessary libraries\n",
    "import wikipedia\n",
    "import os\n",
    "from langchain.chat_models import ChatOpenAI\n",
    "from langchain.prompts import PromptTemplate\n",
    "from langchain.chains import LLMChain\n",
    "\n",
    "from dotenv import load_dotenv, find_dotenv\n",
    "_ = load_dotenv(find_dotenv())\n",
    "\n",
    "OPENAI_API_KEY  = os.getenv('OPENAI_API_KEY')\n"
   ]
  },
  {
   "cell_type": "code",
   "execution_count": null,
   "id": "6f3b4ad6-b3b6-45af-8980-ac2a19406fc8",
   "metadata": {},
   "outputs": [],
   "source": [
    "# Function to get city information from Wikipedia with a specific focus on tourist attractions\n",
    "def get_city_attractions(city_name):\n",
    "    try:\n",
    "        # Specifically search for tourist attractions related to the city\n",
    "        page = wikipedia.page(city_name)\n",
    "        content = page.content\n",
    "        \n",
    "        # Try to find sections that might contain tourist attractions\n",
    "        possible_sections = [\"tourist attractions\", \"landmarks\", \"sights\", \"notable places\", \"famous sites\"]\n",
    "        \n",
    "        attractions_info = \"\"\n",
    "        for section in possible_sections:\n",
    "            start = content.lower().find(section)\n",
    "            if start != -1:\n",
    "                # Extract content around the section\n",
    "                end = content.find(\"\\n\", start + 20)\n",
    "                attractions_info = content[start:end]\n",
    "                break\n",
    "        \n",
    "        # If no attractions found, return a default message\n",
    "        if not attractions_info:\n",
    "            attractions_info = \"Tourist attractions section not found.\"\n",
    "\n",
    "        return attractions_info\n",
    "    except wikipedia.exceptions.DisambiguationError as e:\n",
    "        return f\"City not found, did you mean: {e.options}\"\n"
   ]
  },
  {
   "cell_type": "code",
   "execution_count": 6,
   "id": "cf240b9f-e01a-41d7-bfeb-c06a0c23642a",
   "metadata": {},
   "outputs": [],
   "source": [
    "# Create a prompt template to use with the LLMChain\n",
    "template = \"\"\"\n",
    "You are an AI assistant that helps users learn about tourist attractions in different cities.\n",
    "Please provide only information related to tourist attractions for the city: {city}.\n",
    "If you have additional suggestions about the city's attractions, provide them clearly.\n",
    "\"\"\""
   ]
  },
  {
   "cell_type": "code",
   "execution_count": 7,
   "id": "6c706a2e-5df6-45a5-849d-c4d9c169824d",
   "metadata": {},
   "outputs": [
    {
     "name": "stderr",
     "output_type": "stream",
     "text": [
      "C:\\Users\\riina\\AppData\\Local\\Temp\\ipykernel_17888\\47326190.py:2: LangChainDeprecationWarning: The class `ChatOpenAI` was deprecated in LangChain 0.0.10 and will be removed in 1.0. An updated version of the class exists in the :class:`~langchain-openai package and should be used instead. To use it run `pip install -U :class:`~langchain-openai` and import as `from :class:`~langchain_openai import ChatOpenAI``.\n",
      "  llm = ChatOpenAI(openai_api_key=os.getenv(\"OPENAI_API_KEY\"), model=\"gpt-4\")\n"
     ]
    }
   ],
   "source": [
    "# Initialize the LLM (Large Language Model) using OpenAI's GPT\n",
    "llm = ChatOpenAI(openai_api_key=os.getenv(\"OPENAI_API_KEY\"), model=\"gpt-4\")\n"
   ]
  },
  {
   "cell_type": "code",
   "execution_count": 8,
   "id": "74e66af2-3537-4bf4-9e2f-56788a660f49",
   "metadata": {},
   "outputs": [
    {
     "name": "stderr",
     "output_type": "stream",
     "text": [
      "C:\\Users\\riina\\AppData\\Local\\Temp\\ipykernel_17888\\670279542.py:3: LangChainDeprecationWarning: The class `LLMChain` was deprecated in LangChain 0.1.17 and will be removed in 1.0. Use :meth:`~RunnableSequence, e.g., `prompt | llm`` instead.\n",
      "  chain = LLMChain(llm=llm, prompt=prompt)\n"
     ]
    }
   ],
   "source": [
    "# Use LLMChain to handle the model interactions\n",
    "prompt = PromptTemplate(template=template, input_variables=[\"city\"])\n",
    "chain = LLMChain(llm=llm, prompt=prompt)"
   ]
  },
  {
   "cell_type": "code",
   "execution_count": 9,
   "id": "91fb1bb9-a36e-4907-b9fc-238cab040dc6",
   "metadata": {},
   "outputs": [],
   "source": [
    "# Function to respond to user query about a city\n",
    "def respond_to_query(query):\n",
    "    city_info = get_city_attractions(query)  # Get the city tourist attractions from Wikipedia\n",
    "    # Get the tourist attractions information from the LLMChain\n",
    "    attractions_info = chain.run(city=query)\n",
    "    return city_info + \"\\n\\nTourist Attractions Info:\\n\" + attractions_info"
   ]
  },
  {
   "cell_type": "code",
   "execution_count": 10,
   "id": "49830c4e-0b0d-48f1-87d5-7e7892b1c772",
   "metadata": {},
   "outputs": [
    {
     "name": "stderr",
     "output_type": "stream",
     "text": [
      "C:\\Users\\riina\\AppData\\Local\\Temp\\ipykernel_17888\\519032661.py:5: LangChainDeprecationWarning: The method `Chain.run` was deprecated in langchain 0.1.0 and will be removed in 1.0. Use :meth:`~invoke` instead.\n",
      "  attractions_info = chain.run(city=query)\n"
     ]
    },
    {
     "name": "stdout",
     "output_type": "stream",
     "text": [
      "Tourist attractions section not found.\n",
      "\n",
      "Tourist Attractions Info:\n",
      "Sure, let's explore the most popular tourist attractions in the city of Paris.\n",
      "\n",
      "1. Eiffel Tower: This iconic symbol of Paris is a must-visit. The Eiffel Tower offers breath-taking views of the city from its observation decks.\n",
      "\n",
      "2. Louvre Museum: Home to thousands of works of art, including the Mona Lisa, the Louvre is one of the world's largest and most visited museums.\n",
      "\n",
      "3. Notre-Dame Cathedral: This famous cathedral is a masterpiece of French Gothic architecture, and it's free to enter.\n",
      "\n",
      "4. Montmartre: Known for the white-domed Basilica of the Sacré-Cœur, it also offers a stunning view of Paris. The area was once a hub for artists like Picasso and Van Gogh.\n",
      "\n",
      "5. Champs-Élysées: This famous avenue is known for its theatres, cafés, and luxury shops. It ends at the Arc de Triomphe, another iconic symbol of Paris.\n",
      "\n",
      "6. Seine River Cruises: A boat cruise on the Seine River gives you a different perspective of Paris, including landmarks like the Eiffel Tower, Notre-Dame, and Louvre.\n",
      "\n",
      "7. Palace of Versailles: Though located outside Paris, it's worth a visit. The opulent palace and gardens are UNESCO World Heritage sites.\n",
      "\n",
      "8. Musée d'Orsay: This museum houses a vast collection of Impressionist and Post-Impressionist masterpieces from artists like Monet, Degas, Renoir, and Cézanne.\n",
      "\n",
      "Additional suggestions:\n",
      "\n",
      "1. Sainte-Chapelle: Known for its stunning stained glass windows, it's a hidden gem that's less crowded than other attractions.\n",
      "\n",
      "2. Le Marais: This historic district is perfect for a leisurely stroll. It's full of trendy boutiques, galleries, and cafes. Don't miss the Picasso Museum and Place des Vosges here.\n",
      "\n",
      "3. The Catacombs of Paris: This underground ossuary holds the remains of more than six million people. It's a chilling but fascinating visit.\n",
      "\n",
      "4. Centre Pompidou: If you're a fan of modern art, visit this museum and cultural center. The building itself is an architectural marvel.\n",
      "\n",
      "5. Cité des Sciences et de l'Industrie: It's the biggest science museum in Europe. The Cité has a planetarium, an IMAX theatre, and special areas for children and teenagers.\n",
      "\n",
      "Remember, Paris is a city full of history, culture, and life. You can easily find hidden treasures just by strolling along its beautiful streets.\n"
     ]
    }
   ],
   "source": [
    "# Example usage\n",
    "city = 'Paris'\n",
    "response = respond_to_query(city)\n",
    "print(response)"
   ]
  },
  {
   "cell_type": "code",
   "execution_count": 11,
   "id": "20b7ab67-9172-4808-86b0-edfe430ea76d",
   "metadata": {},
   "outputs": [
    {
     "name": "stdout",
     "output_type": "stream",
     "text": [
      "Tourist attractions section not found.\n",
      "\n",
      "Tourist Attractions Info:\n",
      "Saudi Arabia is a country, not a city, but it has many cities with various tourist attractions. Here are some of the top attractions in different cities across Saudi Arabia:\n",
      "\n",
      "1. Riyadh: The capital city is home to the National Museum, which provides an insight into the country's culture and history. The King Abdulaziz Historical Center and the Al-Masmak Fortress are also must-see attractions.\n",
      "\n",
      "2. Jeddah: This city is known for its stunning coastline and the iconic King Fahd Fountain, which is the tallest of its kind in the world. Jeddah also hosts the historic Al-Balad district, a UNESCO World Heritage Site, featuring traditional homes, shops, and souqs.\n",
      "\n",
      "3. Mecca: The holiest city in Islam, it is the site of the Great Mosque of Mecca (Al-Masjid al-Haram) containing the Kaaba. Non-Muslims are not permitted to enter, but it is a significant site for those of the Islamic faith.\n",
      "\n",
      "4. Medina: Another significant city for Muslims, it is home to Al-Masjid an-Nabawi, the mosque where the Prophet Muhammad is buried.\n",
      "\n",
      "5. Abha: Known for its cool climate and Saudi Arabia's highest peak, Jebel Sawda, Abha is a great destination for nature lovers. Asir National Park and Habala Village are also worth a visit.\n",
      "\n",
      "6. Taif: Famous for its fragrant roses, Taif is also known for Shubra Palace, now a museum that once served as a royal residence.\n",
      "\n",
      "7. Najran: This city offers a rich history with ancient ruins, rock carvings, and the Al-Ukhdood archaeological site.\n",
      "\n",
      "8. Al Khobar: This city is a shopping haven with its large malls and shopping centers. Half Moon Bay, a popular beach destination, is also nearby.\n",
      "\n",
      "9. Umluj: Often referred to as Saudi Arabia's Maldives due to its stunning turquoise waters and white sandy beaches. \n",
      "\n",
      "10. Al Khafji: This city is renowned for its beautiful beaches and its proximity to the stunning desert landscape.\n",
      "\n",
      "Remember, Saudi Arabia is a conservative country, so it's important to respect local customs and dress codes when visiting.\n"
     ]
    }
   ],
   "source": [
    "# Example usage\n",
    "city = 'saudi arabia'\n",
    "response = respond_to_query(city)\n",
    "print(response)"
   ]
  },
  {
   "cell_type": "code",
   "execution_count": null,
   "id": "66208b56-dbbb-4831-acbc-cb02b2c9e13f",
   "metadata": {},
   "outputs": [],
   "source": []
  }
 ],
 "metadata": {
  "kernelspec": {
   "display_name": "base",
   "language": "python",
   "name": "python3"
  },
  "language_info": {
   "codemirror_mode": {
    "name": "ipython",
    "version": 3
   },
   "file_extension": ".py",
   "mimetype": "text/x-python",
   "name": "python",
   "nbconvert_exporter": "python",
   "pygments_lexer": "ipython3",
   "version": "3.12.9"
  }
 },
 "nbformat": 4,
 "nbformat_minor": 5
}
