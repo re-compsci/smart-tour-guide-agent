{
 "cells": [
  {
   "cell_type": "code",
   "execution_count": 38,
   "id": "d19c3366",
   "metadata": {},
   "outputs": [],
   "source": [
    "# import libraries\n",
    "import os\n",
    "import speech_recognition as sr\n",
    "from langchain.text_splitter import RecursiveCharacterTextSplitter\n",
    "from langchain_community.utilities import OpenWeatherMapAPIWrapper,WikipediaAPIWrapper,DuckDuckGoSearchAPIWrapper\n",
    "from langchain.agents import Tool\n",
    "from langchain_openai import OpenAIEmbeddings\n",
    "from langchain.vectorstores import FAISS\n",
    "from langchain_core.prompts import PromptTemplate\n",
    "from langchain.memory import ConversationBufferMemory\n",
    "from langchain_core.documents import Document\n",
    "from langchain.llms import OpenAI\n",
    "import pyttsx3 \n",
    "from langchain.agents import initialize_agent\n",
    "from langsmith import utils"
   ]
  },
  {
   "cell_type": "code",
   "execution_count": null,
   "id": "bfcd54e3",
   "metadata": {},
   "outputs": [],
   "source": [
    "# read .env file\n",
    "from dotenv import load_dotenv, find_dotenv\n",
    "_ = load_dotenv(find_dotenv())\n",
    "\n"
   ]
  },
  {
   "cell_type": "code",
   "execution_count": null,
   "id": "ecea04c4",
   "metadata": {},
   "outputs": [],
   "source": [
    "# required imports for Langsmith tracing\n",
    "OPENAI_API_KEY  = os.getenv('OPENAI_API_KEY')\n",
    "LANGCHAIN_API_KEY = os.getenv(\"LANGCHAIN_API_KEY\")\n",
    "os.environ[\"LANGCHAIN_TRACING_V2\"] = \"true\"\n",
    "os.environ[\"LANGCHAIN_ENDPOINT\"]=\"https://api.smith.langchain.com\"\n",
    "os.environ[\"LANGCHAIN_PROJECT\"]=\"Travel Assistant\"\n",
    "\n"
   ]
  },
  {
   "cell_type": "code",
   "execution_count": null,
   "id": "9736496d",
   "metadata": {},
   "outputs": [
    {
     "data": {
      "text/plain": [
       "True"
      ]
     },
     "execution_count": 35,
     "metadata": {},
     "output_type": "execute_result"
    }
   ],
   "source": [
    "# cheack the avalibilty for Langsmith tracing\n",
    "utils.tracing_is_enabled()"
   ]
  },
  {
   "cell_type": "code",
   "execution_count": 34,
   "id": "a5f78495",
   "metadata": {},
   "outputs": [],
   "source": [
    "# assign APIs libraries into variable\n",
    "weather_api = OpenWeatherMapAPIWrapper()  #https://home.openweathermap.org/api_keys\n",
    "duck_api =DuckDuckGoSearchAPIWrapper()\n",
    "wiki_api = WikipediaAPIWrapper()\n",
    "recognizer = sr.Recognizer()\n"
   ]
  },
  {
   "cell_type": "code",
   "execution_count": 33,
   "id": "cdd9fc85",
   "metadata": {},
   "outputs": [],
   "source": [
    "# configure embeddings model for document processing\n",
    "embed = OpenAIEmbeddings(model='text-embedding-ada-002') \n",
    "\n",
    "# splits documents into chunks for processing\n",
    "splitter = RecursiveCharacterTextSplitter(chunk_size=600, chunk_overlap=100)\n",
    "    "
   ]
  },
  {
   "cell_type": "code",
   "execution_count": 32,
   "id": "7c3c3657",
   "metadata": {},
   "outputs": [],
   "source": [
    "# Wikipidia retriever system\n",
    "def retriever_tool(split_docs,query):\n",
    "    \n",
    "    # creates a FAISS vector store for similarity search\n",
    "    vectorstore = FAISS.from_documents(split_docs, embed)\n",
    "    retriever = vectorstore.as_retriever()\n",
    "    results = retriever.get_relevant_documents(query)\n",
    "    return \"\\n\".join([doc.page_content for doc in results])\n"
   ]
  },
  {
   "cell_type": "code",
   "execution_count": null,
   "id": "9c665e51",
   "metadata": {},
   "outputs": [],
   "source": [
    "# Wikipidia search system \n",
    "def wiki_search(query):\n",
    "    data = wiki_api.load(query)\n",
    "    split_docs = splitter.split_documents(data)\n",
    " \n",
    "    return retriever_tool(split_docs, query)"
   ]
  },
  {
   "cell_type": "code",
   "execution_count": null,
   "id": "eddc9ec1",
   "metadata": {},
   "outputs": [],
   "source": [
    "# document identification function\n",
    "def docs(article):\n",
    "  return Document(\n",
    "      page_content=article['snippet'],\n",
    "      metadata={\"title\": article['title']}\n",
    "  )"
   ]
  },
  {
   "cell_type": "code",
   "execution_count": null,
   "id": "8f9beef7",
   "metadata": {},
   "outputs": [],
   "source": [
    "# DuckDuckGo search system \n",
    "def ddg_search(query):\n",
    "    data = duck_api.results(query,10)\n",
    "    documents = []\n",
    "    for raw in data:\n",
    "     documents.append(docs(raw))\n",
    "    split_docs = splitter.split_documents(documents)\n",
    " \n",
    "    return retriever_tool(split_docs, query)"
   ]
  },
  {
   "cell_type": "code",
   "execution_count": 26,
   "id": "f8cd8d46",
   "metadata": {},
   "outputs": [],
   "source": [
    "# AI model configuration\n",
    "llm = OpenAI(temperature=0, model_name=\"gpt-3.5-turbo-instruct\")  # or \"gpt-4\"\n"
   ]
  },
  {
   "cell_type": "code",
   "execution_count": 25,
   "id": "1f99dc90",
   "metadata": {},
   "outputs": [],
   "source": [
    "# define the custom prompt template for SmartTourGuideAgent\n",
    "tour_guide_prompt = PromptTemplate(\n",
    "    input_variables=[\"query\"],\n",
    "    template=\"\"\"\n",
    "    You are a SmartTourGuideAgent. Your task is to help users with their travel-related questions.\n",
    "    If the user asks about a city or country, provide them with relevant details about it.\n",
    "    If the user asks for a trip plan, create a basic itinerary for them.\n",
    "\n",
    "    Answer questions with relevant emojis to make the answers more engaging and fun. For example:\n",
    "    - For cities, mention landmarks, weather, or activities with emojis.\n",
    "    - For countries, mention famous attractions or cultural highlights with emojis.\n",
    "    - For trip plans, create a fun schedule with emojis representing the activities.\n",
    "\n",
    "    Query: {query}\n",
    "    Answer:\n",
    "    \"\"\"\n",
    ")"
   ]
  },
  {
   "cell_type": "code",
   "execution_count": 24,
   "id": "db5c9ce7",
   "metadata": {},
   "outputs": [],
   "source": [
    "# tools definitions\n",
    "tools = [\n",
    "    Tool(\n",
    "    name=\"TravelInfoRetriever\",\n",
    "    func=wiki_search,\n",
    "    description=(\n",
    "    \"You are a SmartTourGuideAgent.\"\n",
    "    \"If the user asks about a city or country, provide them with details about it.\"\n",
    "    \"If the user asks for a trip plan, create a basic itinerary for them.\"\n",
    "    \"- For cities, mention landmarks, weather, or activities with emojis.\"\n",
    "    \"- For countries, mention famous attractions or cultural highlights with emojis.\"\n",
    "    \"- For trip plans, create a fun schedule with emojis representing the activities.\"\n",
    "    )\n",
    "    ),\n",
    "\n",
    "Tool(\n",
    "    name=\"Search\",\n",
    "    func=ddg_search,\n",
    "    description=(\n",
    "        \"Use this tool to search the web for up-to-date information, news, events, travel rules, or details not covered by other tools. \"\n",
    "        \"Best for questions like: 'Is the Venice Carnival this year?' or 'Entry rules for Japan 2025.'\"\n",
    "    )\n",
    "),\n",
    "\n",
    "  Tool(\n",
    "        name='Weather',\n",
    "        func= weather_api.run,\n",
    "        description=(\n",
    "        \"Use this tool to find **current or forecasted weather information** about a country, city, or travel destination. \"\n",
    "        \"Ideal for questions like: 'What's the weather in Rome?', 'Is it rainy in Tokyo?', or 'How cold is it in Iceland in December?'. \"\n",
    "        \"Only use this tool when the user is asking specifically about **weather** conditions. \"\n",
    "        \"Do not use it for general travel info or sightseeing.\")\n",
    "  )\n",
    "]"
   ]
  },
  {
   "cell_type": "code",
   "execution_count": 23,
   "id": "5c927e61",
   "metadata": {},
   "outputs": [],
   "source": [
    "# audio processing functions\n",
    "def listen_to_user(timeout=10):\n",
    "    \"\"\"Convert speech to text with error handling\"\"\"\n",
    "    try:\n",
    "        with sr.Microphone() as source:\n",
    "            print(\"\\n🎤 Listening... (Speak now)\")\n",
    "            audio = recognizer.listen(source, timeout=timeout)\n",
    "        return recognizer.recognize_google(audio)\n",
    "    except sr.WaitTimeoutError:\n",
    "        print(\"⌛ No speech detected, please try again!\")\n",
    "        return \"\"\n",
    "    except Exception as e:\n",
    "        print(f\"🔇 : {str(e)}. Try speaking again.\")\n",
    "        return \"\"\n",
    "\n",
    "def text_to_speech(text):\n",
    "    \"\"\"Convert text to speech\"\"\"\n",
    "    engine = pyttsx3.init()\n",
    "    engine.setProperty('rate', 150)  # Speed of speech\n",
    "    engine.setProperty('volume', 1)  # Volume level (0.0 to 1.0)\n",
    "    engine.say(text)\n",
    "    engine.runAndWait()\n",
    "\n",
    "# conversation management\n",
    "def get_input_method():\n",
    "    \"\"\"Get user's preferred input method\"\"\"\n",
    "    while True:\n",
    "        method = input(\"\\nChoose input method [text/audio]: \").lower()\n",
    "        if method in [\"text\", \"t\"]:\n",
    "            return input(\"✍️ Your travel question: \")\n",
    "        elif method in [\"audio\", \"a\"]:\n",
    "            return listen_to_user()\n",
    "        print(\"⚠️ Please enter 'text' or 'audio'\")\n"
   ]
  },
  {
   "cell_type": "code",
   "execution_count": 39,
   "id": "ed5fce8d",
   "metadata": {},
   "outputs": [],
   "source": [
    "# initialize conversation memory \n",
    "memory = ConversationBufferMemory(memory_key=\"chat_history\")\n",
    "\n",
    "# agent Initialization\n",
    "conversational_agent = initialize_agent(\n",
    "    agent=\"conversational-react-description\",\n",
    "    tools=tools,\n",
    "    llm=llm,\n",
    "    verbose=True,\n",
    "    max_iterations=6,\n",
    "    agent_kwargs={\n",
    "        \"prompt\": tour_guide_prompt\n",
    "    },\n",
    "     memory=memory  \n",
    ")"
   ]
  },
  {
   "cell_type": "code",
   "execution_count": null,
   "id": "e30a73d5",
   "metadata": {},
   "outputs": [],
   "source": [
    "# start the interaction  \n",
    "\n",
    "while True:\n",
    "    user_input = get_input_method()\n",
    "    if user_input.lower() in [\"goodbye\", \"stop\", \"bye\"]:\n",
    "        print(\"🤖 Agent: Goodbye! 👋\")\n",
    "        break\n",
    "    conversational_agent(user_input)"
   ]
  }
 ],
 "metadata": {
  "kernelspec": {
   "display_name": "base",
   "language": "python",
   "name": "python3"
  },
  "language_info": {
   "codemirror_mode": {
    "name": "ipython",
    "version": 3
   },
   "file_extension": ".py",
   "mimetype": "text/x-python",
   "name": "python",
   "nbconvert_exporter": "python",
   "pygments_lexer": "ipython3",
   "version": "3.12.9"
  }
 },
 "nbformat": 4,
 "nbformat_minor": 5
}
